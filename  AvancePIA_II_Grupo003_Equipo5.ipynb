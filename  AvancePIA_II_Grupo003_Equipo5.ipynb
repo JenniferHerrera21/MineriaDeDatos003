{
 "cells": [
  {
   "cell_type": "markdown",
   "metadata": {},
   "source": [
    "# Segundo avance PIA"
   ]
  },
  {
   "cell_type": "markdown",
   "metadata": {},
   "source": [
    "Informacion requisito para el primer avance del proyecto integrador.\n",
    "\n",
    "Equipo número 5\n",
    "\n",
    "Grupo: 03, Lunes\n",
    "- 1595894 GONZALEZ CAMPOS EDSON ALI\n",
    "- 1941521 LOPEZ DOMINGUEZ FRANCISCO EVERARDO\n",
    "- 1663288 HERRERA RIVERA JENNIFER JACQUELINE\n",
    "- 1981779 SEGOVIA GONZÁLEZ ANAKAREN"
   ]
  },
  {
   "cell_type": "markdown",
   "metadata": {},
   "source": [
    "1) Titulo de la base de datos BankChurners \n",
    "\n",
    "a) bankChuners\n",
    "\n",
    "b) https://www.kaggle.com/salamatoto/bankchuners"
   ]
  },
  {
   "cell_type": "markdown",
   "metadata": {},
   "source": [
    "2) Descripción de los datos\n",
    "\n",
    "a) Son datos bancarios acerca de las tarjetas de crédito de diversos clientes. Los datos están en formato de tablas para su visualización, la mayoria de estos son variables numericas. \n",
    "\n",
    "b) Descripción de las columnas: En las columnas de nuestra base de datos se describen desde una columna de identificación que sería clientnum, columnas con texto largo donde entraréan las columnas de attrition_flag, education_level, marital_status y card_category. También hay de tiempo siendo la columna customer_age que nos refleja la edad del cliente o las columnas months_on_book, Total_Relationship_Count y Months_Inactive_12_mon. También hay columnas de datos para medir columnas con datos de medición como en income_category."
   ]
  },
  {
   "cell_type": "markdown",
   "metadata": {},
   "source": [
    "3) Justificación del uso de datos\n",
    "\n",
    "a) Las características que más nos llamaron la atención creo que fue el que sea una base de datos bancaria, es algo cercano a lo que tendremos que trabajar al graduarnos y es interesante el poder manejar algo similar ahora que somos estudiantes. El que podamos manejar los datos sobre sus límites de crédito, tipos de tarjetas e ingresos de los clientes.\n",
    "\n",
    "b) El poder acostumbrar a nuestra mente a manejar datos bancarios de una manera correcta, poder manipularlos y hacer de ellos algo más simple de manejar."
   ]
  },
  {
   "cell_type": "markdown",
   "metadata": {},
   "source": [
    "4) \n",
    "* Objetivo final\n",
    "  + a)\tPronosticar que clientes podrían tener problemas al pagar su cuenta de crédito para seguirlos de cerca.\n",
    "* Objetivos secundarios\n",
    "  + a)\tIdentificar a que edad una persona tiene más ingresos \n",
    "  + b)  Evaluar que sexo gasta más dinero según su saldo disponible"
   ]
  },
  {
   "cell_type": "markdown",
   "metadata": {},
   "source": [
    "## Parte de programación"
   ]
  },
  {
   "cell_type": "markdown",
   "metadata": {},
   "source": [
    "### Limpieza de datos"
   ]
  },
  {
   "cell_type": "markdown",
   "metadata": {},
   "source": [
    "Primero importamos las librerias para el proceso de limpieza"
   ]
  },
  {
   "cell_type": "code",
   "execution_count": 2,
   "metadata": {},
   "outputs": [],
   "source": [
    "import pandas as pd\n",
    "import numpy as np\n",
    "import json\n",
    "import seaborn as sns\n",
    "import matplotlib.pyplot as plt\n"
   ]
  },
  {
   "cell_type": "markdown",
   "metadata": {},
   "source": [
    "Mandamos llamar nuestra base de datos y la visualizamos sin modificaciones"
   ]
  },
  {
   "cell_type": "code",
   "execution_count": 3,
   "metadata": {},
   "outputs": [
    {
     "data": {
      "text/html": [
       "<div>\n",
       "<style scoped>\n",
       "    .dataframe tbody tr th:only-of-type {\n",
       "        vertical-align: middle;\n",
       "    }\n",
       "\n",
       "    .dataframe tbody tr th {\n",
       "        vertical-align: top;\n",
       "    }\n",
       "\n",
       "    .dataframe thead th {\n",
       "        text-align: right;\n",
       "    }\n",
       "</style>\n",
       "<table border=\"1\" class=\"dataframe\">\n",
       "  <thead>\n",
       "    <tr style=\"text-align: right;\">\n",
       "      <th></th>\n",
       "      <th>CLIENTNUM</th>\n",
       "      <th>Attrition_Flag</th>\n",
       "      <th>Customer_Age</th>\n",
       "      <th>Gender</th>\n",
       "      <th>Dependent_count</th>\n",
       "      <th>Education_Level</th>\n",
       "      <th>Marital_Status</th>\n",
       "      <th>Income_Category</th>\n",
       "      <th>Card_Category</th>\n",
       "      <th>Months_on_book</th>\n",
       "      <th>...</th>\n",
       "      <th>Credit_Limit</th>\n",
       "      <th>Total_Revolving_Bal</th>\n",
       "      <th>Avg_Open_To_Buy</th>\n",
       "      <th>Total_Amt_Chng_Q4_Q1</th>\n",
       "      <th>Total_Trans_Amt</th>\n",
       "      <th>Total_Trans_Ct</th>\n",
       "      <th>Total_Ct_Chng_Q4_Q1</th>\n",
       "      <th>Avg_Utilization_Ratio</th>\n",
       "      <th>Naive_Bayes_Classifier_Attrition_Flag_Card_Category_Contacts_Count_12_mon_Dependent_count_Education_Level_Months_Inactive_12_mon_1</th>\n",
       "      <th>Naive_Bayes_Classifier_Attrition_Flag_Card_Category_Contacts_Count_12_mon_Dependent_count_Education_Level_Months_Inactive_12_mon_2</th>\n",
       "    </tr>\n",
       "  </thead>\n",
       "  <tbody>\n",
       "    <tr>\n",
       "      <th>0</th>\n",
       "      <td>768805383</td>\n",
       "      <td>Existing Customer</td>\n",
       "      <td>45</td>\n",
       "      <td>M</td>\n",
       "      <td>3</td>\n",
       "      <td>High School</td>\n",
       "      <td>Married</td>\n",
       "      <td>$60K - $80K</td>\n",
       "      <td>Blue</td>\n",
       "      <td>39</td>\n",
       "      <td>...</td>\n",
       "      <td>12691.0</td>\n",
       "      <td>777</td>\n",
       "      <td>11914.0</td>\n",
       "      <td>1.335</td>\n",
       "      <td>1144</td>\n",
       "      <td>42</td>\n",
       "      <td>1.625</td>\n",
       "      <td>0.061</td>\n",
       "      <td>0.000093</td>\n",
       "      <td>0.999910</td>\n",
       "    </tr>\n",
       "    <tr>\n",
       "      <th>1</th>\n",
       "      <td>818770008</td>\n",
       "      <td>Existing Customer</td>\n",
       "      <td>49</td>\n",
       "      <td>F</td>\n",
       "      <td>5</td>\n",
       "      <td>Graduate</td>\n",
       "      <td>Single</td>\n",
       "      <td>Less than $40K</td>\n",
       "      <td>Blue</td>\n",
       "      <td>44</td>\n",
       "      <td>...</td>\n",
       "      <td>8256.0</td>\n",
       "      <td>864</td>\n",
       "      <td>7392.0</td>\n",
       "      <td>1.541</td>\n",
       "      <td>1291</td>\n",
       "      <td>33</td>\n",
       "      <td>3.714</td>\n",
       "      <td>0.105</td>\n",
       "      <td>0.000057</td>\n",
       "      <td>0.999940</td>\n",
       "    </tr>\n",
       "    <tr>\n",
       "      <th>2</th>\n",
       "      <td>713982108</td>\n",
       "      <td>Existing Customer</td>\n",
       "      <td>51</td>\n",
       "      <td>M</td>\n",
       "      <td>3</td>\n",
       "      <td>Graduate</td>\n",
       "      <td>Married</td>\n",
       "      <td>$80K - $120K</td>\n",
       "      <td>Blue</td>\n",
       "      <td>36</td>\n",
       "      <td>...</td>\n",
       "      <td>3418.0</td>\n",
       "      <td>0</td>\n",
       "      <td>3418.0</td>\n",
       "      <td>2.594</td>\n",
       "      <td>1887</td>\n",
       "      <td>20</td>\n",
       "      <td>2.333</td>\n",
       "      <td>0.000</td>\n",
       "      <td>0.000021</td>\n",
       "      <td>0.999980</td>\n",
       "    </tr>\n",
       "    <tr>\n",
       "      <th>3</th>\n",
       "      <td>769911858</td>\n",
       "      <td>Existing Customer</td>\n",
       "      <td>40</td>\n",
       "      <td>F</td>\n",
       "      <td>4</td>\n",
       "      <td>High School</td>\n",
       "      <td>Unknown</td>\n",
       "      <td>Less than $40K</td>\n",
       "      <td>Blue</td>\n",
       "      <td>34</td>\n",
       "      <td>...</td>\n",
       "      <td>3313.0</td>\n",
       "      <td>2517</td>\n",
       "      <td>796.0</td>\n",
       "      <td>1.405</td>\n",
       "      <td>1171</td>\n",
       "      <td>20</td>\n",
       "      <td>2.333</td>\n",
       "      <td>0.760</td>\n",
       "      <td>0.000134</td>\n",
       "      <td>0.999870</td>\n",
       "    </tr>\n",
       "    <tr>\n",
       "      <th>4</th>\n",
       "      <td>709106358</td>\n",
       "      <td>Existing Customer</td>\n",
       "      <td>40</td>\n",
       "      <td>M</td>\n",
       "      <td>3</td>\n",
       "      <td>Uneducated</td>\n",
       "      <td>Married</td>\n",
       "      <td>$60K - $80K</td>\n",
       "      <td>Blue</td>\n",
       "      <td>21</td>\n",
       "      <td>...</td>\n",
       "      <td>4716.0</td>\n",
       "      <td>0</td>\n",
       "      <td>4716.0</td>\n",
       "      <td>2.175</td>\n",
       "      <td>816</td>\n",
       "      <td>28</td>\n",
       "      <td>2.500</td>\n",
       "      <td>0.000</td>\n",
       "      <td>0.000022</td>\n",
       "      <td>0.999980</td>\n",
       "    </tr>\n",
       "    <tr>\n",
       "      <th>...</th>\n",
       "      <td>...</td>\n",
       "      <td>...</td>\n",
       "      <td>...</td>\n",
       "      <td>...</td>\n",
       "      <td>...</td>\n",
       "      <td>...</td>\n",
       "      <td>...</td>\n",
       "      <td>...</td>\n",
       "      <td>...</td>\n",
       "      <td>...</td>\n",
       "      <td>...</td>\n",
       "      <td>...</td>\n",
       "      <td>...</td>\n",
       "      <td>...</td>\n",
       "      <td>...</td>\n",
       "      <td>...</td>\n",
       "      <td>...</td>\n",
       "      <td>...</td>\n",
       "      <td>...</td>\n",
       "      <td>...</td>\n",
       "      <td>...</td>\n",
       "    </tr>\n",
       "    <tr>\n",
       "      <th>10122</th>\n",
       "      <td>772366833</td>\n",
       "      <td>Existing Customer</td>\n",
       "      <td>50</td>\n",
       "      <td>M</td>\n",
       "      <td>2</td>\n",
       "      <td>Graduate</td>\n",
       "      <td>Single</td>\n",
       "      <td>$40K - $60K</td>\n",
       "      <td>Blue</td>\n",
       "      <td>40</td>\n",
       "      <td>...</td>\n",
       "      <td>4003.0</td>\n",
       "      <td>1851</td>\n",
       "      <td>2152.0</td>\n",
       "      <td>0.703</td>\n",
       "      <td>15476</td>\n",
       "      <td>117</td>\n",
       "      <td>0.857</td>\n",
       "      <td>0.462</td>\n",
       "      <td>0.000191</td>\n",
       "      <td>0.999810</td>\n",
       "    </tr>\n",
       "    <tr>\n",
       "      <th>10123</th>\n",
       "      <td>710638233</td>\n",
       "      <td>Attrited Customer</td>\n",
       "      <td>41</td>\n",
       "      <td>M</td>\n",
       "      <td>2</td>\n",
       "      <td>Unknown</td>\n",
       "      <td>Divorced</td>\n",
       "      <td>$40K - $60K</td>\n",
       "      <td>Blue</td>\n",
       "      <td>25</td>\n",
       "      <td>...</td>\n",
       "      <td>4277.0</td>\n",
       "      <td>2186</td>\n",
       "      <td>2091.0</td>\n",
       "      <td>0.804</td>\n",
       "      <td>8764</td>\n",
       "      <td>69</td>\n",
       "      <td>0.683</td>\n",
       "      <td>0.511</td>\n",
       "      <td>0.995270</td>\n",
       "      <td>0.004729</td>\n",
       "    </tr>\n",
       "    <tr>\n",
       "      <th>10124</th>\n",
       "      <td>716506083</td>\n",
       "      <td>Attrited Customer</td>\n",
       "      <td>44</td>\n",
       "      <td>F</td>\n",
       "      <td>1</td>\n",
       "      <td>High School</td>\n",
       "      <td>Married</td>\n",
       "      <td>Less than $40K</td>\n",
       "      <td>Blue</td>\n",
       "      <td>36</td>\n",
       "      <td>...</td>\n",
       "      <td>5409.0</td>\n",
       "      <td>0</td>\n",
       "      <td>5409.0</td>\n",
       "      <td>0.819</td>\n",
       "      <td>10291</td>\n",
       "      <td>60</td>\n",
       "      <td>0.818</td>\n",
       "      <td>0.000</td>\n",
       "      <td>0.997880</td>\n",
       "      <td>0.002118</td>\n",
       "    </tr>\n",
       "    <tr>\n",
       "      <th>10125</th>\n",
       "      <td>717406983</td>\n",
       "      <td>Attrited Customer</td>\n",
       "      <td>30</td>\n",
       "      <td>M</td>\n",
       "      <td>2</td>\n",
       "      <td>Graduate</td>\n",
       "      <td>Unknown</td>\n",
       "      <td>$40K - $60K</td>\n",
       "      <td>Blue</td>\n",
       "      <td>36</td>\n",
       "      <td>...</td>\n",
       "      <td>5281.0</td>\n",
       "      <td>0</td>\n",
       "      <td>5281.0</td>\n",
       "      <td>0.535</td>\n",
       "      <td>8395</td>\n",
       "      <td>62</td>\n",
       "      <td>0.722</td>\n",
       "      <td>0.000</td>\n",
       "      <td>0.996710</td>\n",
       "      <td>0.003294</td>\n",
       "    </tr>\n",
       "    <tr>\n",
       "      <th>10126</th>\n",
       "      <td>714337233</td>\n",
       "      <td>Attrited Customer</td>\n",
       "      <td>43</td>\n",
       "      <td>F</td>\n",
       "      <td>2</td>\n",
       "      <td>Graduate</td>\n",
       "      <td>Married</td>\n",
       "      <td>Less than $40K</td>\n",
       "      <td>Silver</td>\n",
       "      <td>25</td>\n",
       "      <td>...</td>\n",
       "      <td>10388.0</td>\n",
       "      <td>1961</td>\n",
       "      <td>8427.0</td>\n",
       "      <td>0.703</td>\n",
       "      <td>10294</td>\n",
       "      <td>61</td>\n",
       "      <td>0.649</td>\n",
       "      <td>0.189</td>\n",
       "      <td>0.996620</td>\n",
       "      <td>0.003377</td>\n",
       "    </tr>\n",
       "  </tbody>\n",
       "</table>\n",
       "<p>10127 rows × 23 columns</p>\n",
       "</div>"
      ],
      "text/plain": [
       "       CLIENTNUM     Attrition_Flag  Customer_Age Gender  Dependent_count  \\\n",
       "0      768805383  Existing Customer            45      M                3   \n",
       "1      818770008  Existing Customer            49      F                5   \n",
       "2      713982108  Existing Customer            51      M                3   \n",
       "3      769911858  Existing Customer            40      F                4   \n",
       "4      709106358  Existing Customer            40      M                3   \n",
       "...          ...                ...           ...    ...              ...   \n",
       "10122  772366833  Existing Customer            50      M                2   \n",
       "10123  710638233  Attrited Customer            41      M                2   \n",
       "10124  716506083  Attrited Customer            44      F                1   \n",
       "10125  717406983  Attrited Customer            30      M                2   \n",
       "10126  714337233  Attrited Customer            43      F                2   \n",
       "\n",
       "      Education_Level Marital_Status Income_Category Card_Category  \\\n",
       "0         High School        Married     $60K - $80K          Blue   \n",
       "1            Graduate         Single  Less than $40K          Blue   \n",
       "2            Graduate        Married    $80K - $120K          Blue   \n",
       "3         High School        Unknown  Less than $40K          Blue   \n",
       "4          Uneducated        Married     $60K - $80K          Blue   \n",
       "...               ...            ...             ...           ...   \n",
       "10122        Graduate         Single     $40K - $60K          Blue   \n",
       "10123         Unknown       Divorced     $40K - $60K          Blue   \n",
       "10124     High School        Married  Less than $40K          Blue   \n",
       "10125        Graduate        Unknown     $40K - $60K          Blue   \n",
       "10126        Graduate        Married  Less than $40K        Silver   \n",
       "\n",
       "       Months_on_book  ...  Credit_Limit  Total_Revolving_Bal  \\\n",
       "0                  39  ...       12691.0                  777   \n",
       "1                  44  ...        8256.0                  864   \n",
       "2                  36  ...        3418.0                    0   \n",
       "3                  34  ...        3313.0                 2517   \n",
       "4                  21  ...        4716.0                    0   \n",
       "...               ...  ...           ...                  ...   \n",
       "10122              40  ...        4003.0                 1851   \n",
       "10123              25  ...        4277.0                 2186   \n",
       "10124              36  ...        5409.0                    0   \n",
       "10125              36  ...        5281.0                    0   \n",
       "10126              25  ...       10388.0                 1961   \n",
       "\n",
       "       Avg_Open_To_Buy  Total_Amt_Chng_Q4_Q1  Total_Trans_Amt  Total_Trans_Ct  \\\n",
       "0              11914.0                 1.335             1144              42   \n",
       "1               7392.0                 1.541             1291              33   \n",
       "2               3418.0                 2.594             1887              20   \n",
       "3                796.0                 1.405             1171              20   \n",
       "4               4716.0                 2.175              816              28   \n",
       "...                ...                   ...              ...             ...   \n",
       "10122           2152.0                 0.703            15476             117   \n",
       "10123           2091.0                 0.804             8764              69   \n",
       "10124           5409.0                 0.819            10291              60   \n",
       "10125           5281.0                 0.535             8395              62   \n",
       "10126           8427.0                 0.703            10294              61   \n",
       "\n",
       "       Total_Ct_Chng_Q4_Q1  Avg_Utilization_Ratio  \\\n",
       "0                    1.625                  0.061   \n",
       "1                    3.714                  0.105   \n",
       "2                    2.333                  0.000   \n",
       "3                    2.333                  0.760   \n",
       "4                    2.500                  0.000   \n",
       "...                    ...                    ...   \n",
       "10122                0.857                  0.462   \n",
       "10123                0.683                  0.511   \n",
       "10124                0.818                  0.000   \n",
       "10125                0.722                  0.000   \n",
       "10126                0.649                  0.189   \n",
       "\n",
       "       Naive_Bayes_Classifier_Attrition_Flag_Card_Category_Contacts_Count_12_mon_Dependent_count_Education_Level_Months_Inactive_12_mon_1  \\\n",
       "0                                               0.000093                                                                                    \n",
       "1                                               0.000057                                                                                    \n",
       "2                                               0.000021                                                                                    \n",
       "3                                               0.000134                                                                                    \n",
       "4                                               0.000022                                                                                    \n",
       "...                                                  ...                                                                                    \n",
       "10122                                           0.000191                                                                                    \n",
       "10123                                           0.995270                                                                                    \n",
       "10124                                           0.997880                                                                                    \n",
       "10125                                           0.996710                                                                                    \n",
       "10126                                           0.996620                                                                                    \n",
       "\n",
       "       Naive_Bayes_Classifier_Attrition_Flag_Card_Category_Contacts_Count_12_mon_Dependent_count_Education_Level_Months_Inactive_12_mon_2  \n",
       "0                                               0.999910                                                                                   \n",
       "1                                               0.999940                                                                                   \n",
       "2                                               0.999980                                                                                   \n",
       "3                                               0.999870                                                                                   \n",
       "4                                               0.999980                                                                                   \n",
       "...                                                  ...                                                                                   \n",
       "10122                                           0.999810                                                                                   \n",
       "10123                                           0.004729                                                                                   \n",
       "10124                                           0.002118                                                                                   \n",
       "10125                                           0.003294                                                                                   \n",
       "10126                                           0.003377                                                                                   \n",
       "\n",
       "[10127 rows x 23 columns]"
      ]
     },
     "execution_count": 3,
     "metadata": {},
     "output_type": "execute_result"
    }
   ],
   "source": [
    "df = pd.read_csv(\"BankChurners.csv\",header = 0,sep = \",\")\n",
    "\n",
    "df "
   ]
  },
  {
   "cell_type": "markdown",
   "metadata": {},
   "source": [
    "Eliminamos las columnas inecesarias en nuestra base de datos, son columnas que no se necesitaran pues son muy complicadas de definir"
   ]
  },
  {
   "cell_type": "code",
   "execution_count": 4,
   "metadata": {},
   "outputs": [],
   "source": [
    "df = df.drop(['Attrition_Flag','Total_Amt_Chng_Q4_Q1','Total_Trans_Amt','Total_Trans_Ct','Total_Ct_Chng_Q4_Q1','Naive_Bayes_Classifier_Attrition_Flag_Card_Category_Contacts_Count_12_mon_Dependent_count_Education_Level_Months_Inactive_12_mon_1'],axis=1)"
   ]
  },
  {
   "cell_type": "markdown",
   "metadata": {},
   "source": [
    "Para facilitar la manipulación cambiamos los nombres de las columnas"
   ]
  },
  {
   "cell_type": "code",
   "execution_count": 5,
   "metadata": {},
   "outputs": [
    {
     "name": "stdout",
     "output_type": "stream",
     "text": [
      "       NumeroDCliente  EdadDCliente Genero  CuentasDependientes  \\\n",
      "0           768805383            45      M                    3   \n",
      "1           818770008            49      F                    5   \n",
      "2           713982108            51      M                    3   \n",
      "3           769911858            40      F                    4   \n",
      "4           709106358            40      M                    3   \n",
      "...               ...           ...    ...                  ...   \n",
      "10122       772366833            50      M                    2   \n",
      "10123       710638233            41      M                    2   \n",
      "10124       716506083            44      F                    1   \n",
      "10125       717406983            30      M                    2   \n",
      "10126       714337233            43      F                    2   \n",
      "\n",
      "      NivelDEducacion EstadoCivil IntervaloDIngresos NivelDTarjeta  \\\n",
      "0         High School     Married        $60K - $80K          Blue   \n",
      "1            Graduate      Single     Less than $40K          Blue   \n",
      "2            Graduate     Married       $80K - $120K          Blue   \n",
      "3         High School     Unknown     Less than $40K          Blue   \n",
      "4          Uneducated     Married        $60K - $80K          Blue   \n",
      "...               ...         ...                ...           ...   \n",
      "10122        Graduate      Single        $40K - $60K          Blue   \n",
      "10123         Unknown    Divorced        $40K - $60K          Blue   \n",
      "10124     High School     Married     Less than $40K          Blue   \n",
      "10125        Graduate     Unknown        $40K - $60K          Blue   \n",
      "10126        Graduate     Married     Less than $40K        Silver   \n",
      "\n",
      "       MesesEnLibro  CuentasRelacionadas  MesesInactivoEnUnAnho  \\\n",
      "0                39                    5                      1   \n",
      "1                44                    6                      1   \n",
      "2                36                    4                      1   \n",
      "3                34                    3                      4   \n",
      "4                21                    5                      1   \n",
      "...             ...                  ...                    ...   \n",
      "10122            40                    3                      2   \n",
      "10123            25                    4                      2   \n",
      "10124            36                    5                      3   \n",
      "10125            36                    4                      3   \n",
      "10126            25                    6                      2   \n",
      "\n",
      "       ContactoConLaCuenta  LimiteCrediticio  TotalDSaldoRotatorio  \\\n",
      "0                        3           12691.0                   777   \n",
      "1                        2            8256.0                   864   \n",
      "2                        0            3418.0                     0   \n",
      "3                        1            3313.0                  2517   \n",
      "4                        0            4716.0                     0   \n",
      "...                    ...               ...                   ...   \n",
      "10122                    3            4003.0                  1851   \n",
      "10123                    3            4277.0                  2186   \n",
      "10124                    4            5409.0                     0   \n",
      "10125                    3            5281.0                     0   \n",
      "10126                    4           10388.0                  1961   \n",
      "\n",
      "       SaldoDisponible  PorcentajeUtilizado  ClasificacionNaiveBayes  \n",
      "0              11914.0                0.061                 0.999910  \n",
      "1               7392.0                0.105                 0.999940  \n",
      "2               3418.0                0.000                 0.999980  \n",
      "3                796.0                0.760                 0.999870  \n",
      "4               4716.0                0.000                 0.999980  \n",
      "...                ...                  ...                      ...  \n",
      "10122           2152.0                0.462                 0.999810  \n",
      "10123           2091.0                0.511                 0.004729  \n",
      "10124           5409.0                0.000                 0.002118  \n",
      "10125           5281.0                0.000                 0.003294  \n",
      "10126           8427.0                0.189                 0.003377  \n",
      "\n",
      "[10127 rows x 17 columns]\n"
     ]
    }
   ],
   "source": [
    "df = df.rename(columns = {'CLIENTNUM':'NumeroDCliente'}) \n",
    "df = df.rename(columns = {'Customer_Age':'EdadDCliente'})\n",
    "df = df.rename(columns = {'Gender':'Genero'})\n",
    "df = df.rename(columns = {'Dependent_count':'CuentasDependientes'})\n",
    "df = df.rename(columns = {'Education_Level':'NivelDEducacion'})\n",
    "df = df.rename(columns = {'Marital_Status':'EstadoCivil'})\n",
    "df = df.rename(columns = {'Income_Category':'IntervaloDIngresos'})\n",
    "df = df.rename(columns = {'Card_Category':'NivelDTarjeta'})\n",
    "df = df.rename(columns = {'Months_on_book':'MesesEnLibro'})\n",
    "df = df.rename(columns = {'Total_Relationship_Count':'CuentasRelacionadas'})\n",
    "df = df.rename(columns = {'Months_Inactive_12_mon':'MesesInactivoEnUnAnho'})\n",
    "df = df.rename(columns = {'Contacts_Count_12_mon':'ContactoConLaCuenta'})\n",
    "df = df.rename(columns = {'Credit_Limit':'LimiteCrediticio'})\n",
    "df = df.rename(columns = {'Total_Revolving_Bal':'TotalDSaldoRotatorio'})\n",
    "df = df.rename(columns = {'Avg_Open_To_Buy':'SaldoDisponible'})\n",
    "df = df.rename(columns = {'Avg_Utilization_Ratio':'PorcentajeUtilizado'})\n",
    "df = df.rename(columns = {'Naive_Bayes_Classifier_Attrition_Flag_Card_Category_Contacts_Count_12_mon_Dependent_count_Education_Level_Months_Inactive_12_mon_2':'ClasificacionNaiveBayes'})\n",
    "print(df)\n"
   ]
  },
  {
   "cell_type": "markdown",
   "metadata": {},
   "source": [
    "Para saber si tenemos datos nulos en nuestra base de datos"
   ]
  },
  {
   "cell_type": "code",
   "execution_count": 6,
   "metadata": {},
   "outputs": [
    {
     "data": {
      "text/plain": [
       "NumeroDCliente             False\n",
       "EdadDCliente               False\n",
       "Genero                     False\n",
       "CuentasDependientes        False\n",
       "NivelDEducacion            False\n",
       "EstadoCivil                False\n",
       "IntervaloDIngresos         False\n",
       "NivelDTarjeta              False\n",
       "MesesEnLibro               False\n",
       "CuentasRelacionadas        False\n",
       "MesesInactivoEnUnAnho      False\n",
       "ContactoConLaCuenta        False\n",
       "LimiteCrediticio           False\n",
       "TotalDSaldoRotatorio       False\n",
       "SaldoDisponible            False\n",
       "PorcentajeUtilizado        False\n",
       "ClasificacionNaiveBayes    False\n",
       "dtype: bool"
      ]
     },
     "execution_count": 6,
     "metadata": {},
     "output_type": "execute_result"
    }
   ],
   "source": [
    "df.isnull().any()"
   ]
  },
  {
   "cell_type": "markdown",
   "metadata": {},
   "source": [
    "Como no tenemos datos nulos que manejar en nuestra base de datos la guardaremos"
   ]
  },
  {
   "cell_type": "markdown",
   "metadata": {},
   "source": [
    "Para guardar la base de datos ya modificada (https://aprendeia.com/importar-y-exportar-datos-en-python/)"
   ]
  },
  {
   "cell_type": "code",
   "execution_count": 7,
   "metadata": {},
   "outputs": [],
   "source": [
    "ruta = \"/Users/jenny/Documents/BankChurnersMod.csv\"\n",
    "df.to_csv(ruta)"
   ]
  },
  {
   "cell_type": "markdown",
   "metadata": {},
   "source": [
    "### Estadística básica de los datos"
   ]
  },
  {
   "cell_type": "markdown",
   "metadata": {},
   "source": [
    "Primero utilizamos la función describe para saber mas de nuestra columna SaldoDisponible, la cual sera muy importante para nuestro objetivo principal pues esta nos dice si un cliente se quedara sin credito en su cuenta.\n",
    "Tomaremos como posible cliente con problemas para pagar a cualquier cliente con un saldo disponible menor a 2000."
   ]
  },
  {
   "cell_type": "code",
   "execution_count": 25,
   "metadata": {},
   "outputs": [
    {
     "data": {
      "text/plain": [
       "count    10127.000000\n",
       "mean      8631.953698\n",
       "std       9088.776650\n",
       "min       1438.300000\n",
       "25%       2555.000000\n",
       "50%       4549.000000\n",
       "75%      11067.500000\n",
       "max      34516.000000\n",
       "Name: LimiteCrediticio, dtype: float64"
      ]
     },
     "execution_count": 25,
     "metadata": {},
     "output_type": "execute_result"
    }
   ],
   "source": [
    "df[\"LimiteCrediticio\"].describe()"
   ]
  },
  {
   "cell_type": "markdown",
   "metadata": {},
   "source": [
    "Como podemos ver tenemos clientes ya casi al limite de su credito con el minimo de 1438, tambien notamos que segun la restricción que pusimos, menos del 25% de nuestros clienes podrian tener problemas para pagar su cuenta."
   ]
  },
  {
   "cell_type": "code",
   "execution_count": 26,
   "metadata": {},
   "outputs": [
    {
     "name": "stdout",
     "output_type": "stream",
     "text": [
      "El promedio de edad de clientes que usan el banco es: 46.32596030413745\n",
      "La edad minima de clientes que usan el banco es: 26\n",
      "La edad maxima de clientes que usan el banco es: 73\n",
      "La mediana de edad de los clientes que usan el banco es: 46.0\n"
     ]
    }
   ],
   "source": [
    "prom = df['EdadDCliente'].mean()\n",
    "EdadMin = df['EdadDCliente'].min()\n",
    "EdadMax = df['EdadDCliente'].max() \n",
    "Mediana = df['EdadDCliente'].median()\n",
    "\n",
    "\n",
    "print(\"El promedio de edad de clientes que usan el banco es:\", prom)\n",
    "print(\"La edad minima de clientes que usan el banco es:\", EdadMin)\n",
    "print(\"La edad maxima de clientes que usan el banco es:\", EdadMax)\n",
    "print(\"La mediana de edad de los clientes que usan el banco es:\", Mediana)"
   ]
  },
  {
   "cell_type": "markdown",
   "metadata": {},
   "source": [
    "Revisamos el promedio, la edad minima y maxima para darnos una idea de cual es el rango de edad que hay entre los clientes del banco"
   ]
  },
  {
   "cell_type": "markdown",
   "metadata": {},
   "source": [
    "### Gráficas"
   ]
  },
  {
   "cell_type": "markdown",
   "metadata": {},
   "source": [
    "Para las graficas de los datos usaremos la base de datos previamente limpiada en la actividad pasada para que sea mas simple su uso"
   ]
  },
  {
   "cell_type": "code",
   "execution_count": 27,
   "metadata": {},
   "outputs": [
    {
     "data": {
      "text/html": [
       "<div>\n",
       "<style scoped>\n",
       "    .dataframe tbody tr th:only-of-type {\n",
       "        vertical-align: middle;\n",
       "    }\n",
       "\n",
       "    .dataframe tbody tr th {\n",
       "        vertical-align: top;\n",
       "    }\n",
       "\n",
       "    .dataframe thead th {\n",
       "        text-align: right;\n",
       "    }\n",
       "</style>\n",
       "<table border=\"1\" class=\"dataframe\">\n",
       "  <thead>\n",
       "    <tr style=\"text-align: right;\">\n",
       "      <th></th>\n",
       "      <th>Unnamed: 0</th>\n",
       "      <th>NumeroDCliente</th>\n",
       "      <th>EdadDCliente</th>\n",
       "      <th>Genero</th>\n",
       "      <th>CuentasDependientes</th>\n",
       "      <th>NivelDEducacion</th>\n",
       "      <th>EstadoCivil</th>\n",
       "      <th>IntervaloDIngresos</th>\n",
       "      <th>NivelDTarjeta</th>\n",
       "      <th>MesesEnLibro</th>\n",
       "      <th>CuentasRelacionadas</th>\n",
       "      <th>MesesInactivoEnUnAnho</th>\n",
       "      <th>ContactoConLaCuenta</th>\n",
       "      <th>LimiteCrediticio</th>\n",
       "      <th>TotalDSaldoRotatorio</th>\n",
       "      <th>SaldoDisponible</th>\n",
       "      <th>PorcentajeUtilizado</th>\n",
       "      <th>ClasificacionNaiveBayes</th>\n",
       "    </tr>\n",
       "  </thead>\n",
       "  <tbody>\n",
       "    <tr>\n",
       "      <th>0</th>\n",
       "      <td>0</td>\n",
       "      <td>768805383</td>\n",
       "      <td>45</td>\n",
       "      <td>M</td>\n",
       "      <td>3</td>\n",
       "      <td>High School</td>\n",
       "      <td>Married</td>\n",
       "      <td>$60K - $80K</td>\n",
       "      <td>Blue</td>\n",
       "      <td>39</td>\n",
       "      <td>5</td>\n",
       "      <td>1</td>\n",
       "      <td>3</td>\n",
       "      <td>12691.0</td>\n",
       "      <td>777</td>\n",
       "      <td>11914.0</td>\n",
       "      <td>0.061</td>\n",
       "      <td>0.999910</td>\n",
       "    </tr>\n",
       "    <tr>\n",
       "      <th>1</th>\n",
       "      <td>1</td>\n",
       "      <td>818770008</td>\n",
       "      <td>49</td>\n",
       "      <td>F</td>\n",
       "      <td>5</td>\n",
       "      <td>Graduate</td>\n",
       "      <td>Single</td>\n",
       "      <td>Less than $40K</td>\n",
       "      <td>Blue</td>\n",
       "      <td>44</td>\n",
       "      <td>6</td>\n",
       "      <td>1</td>\n",
       "      <td>2</td>\n",
       "      <td>8256.0</td>\n",
       "      <td>864</td>\n",
       "      <td>7392.0</td>\n",
       "      <td>0.105</td>\n",
       "      <td>0.999940</td>\n",
       "    </tr>\n",
       "    <tr>\n",
       "      <th>2</th>\n",
       "      <td>2</td>\n",
       "      <td>713982108</td>\n",
       "      <td>51</td>\n",
       "      <td>M</td>\n",
       "      <td>3</td>\n",
       "      <td>Graduate</td>\n",
       "      <td>Married</td>\n",
       "      <td>$80K - $120K</td>\n",
       "      <td>Blue</td>\n",
       "      <td>36</td>\n",
       "      <td>4</td>\n",
       "      <td>1</td>\n",
       "      <td>0</td>\n",
       "      <td>3418.0</td>\n",
       "      <td>0</td>\n",
       "      <td>3418.0</td>\n",
       "      <td>0.000</td>\n",
       "      <td>0.999980</td>\n",
       "    </tr>\n",
       "    <tr>\n",
       "      <th>3</th>\n",
       "      <td>3</td>\n",
       "      <td>769911858</td>\n",
       "      <td>40</td>\n",
       "      <td>F</td>\n",
       "      <td>4</td>\n",
       "      <td>High School</td>\n",
       "      <td>Unknown</td>\n",
       "      <td>Less than $40K</td>\n",
       "      <td>Blue</td>\n",
       "      <td>34</td>\n",
       "      <td>3</td>\n",
       "      <td>4</td>\n",
       "      <td>1</td>\n",
       "      <td>3313.0</td>\n",
       "      <td>2517</td>\n",
       "      <td>796.0</td>\n",
       "      <td>0.760</td>\n",
       "      <td>0.999870</td>\n",
       "    </tr>\n",
       "    <tr>\n",
       "      <th>4</th>\n",
       "      <td>4</td>\n",
       "      <td>709106358</td>\n",
       "      <td>40</td>\n",
       "      <td>M</td>\n",
       "      <td>3</td>\n",
       "      <td>Uneducated</td>\n",
       "      <td>Married</td>\n",
       "      <td>$60K - $80K</td>\n",
       "      <td>Blue</td>\n",
       "      <td>21</td>\n",
       "      <td>5</td>\n",
       "      <td>1</td>\n",
       "      <td>0</td>\n",
       "      <td>4716.0</td>\n",
       "      <td>0</td>\n",
       "      <td>4716.0</td>\n",
       "      <td>0.000</td>\n",
       "      <td>0.999980</td>\n",
       "    </tr>\n",
       "    <tr>\n",
       "      <th>...</th>\n",
       "      <td>...</td>\n",
       "      <td>...</td>\n",
       "      <td>...</td>\n",
       "      <td>...</td>\n",
       "      <td>...</td>\n",
       "      <td>...</td>\n",
       "      <td>...</td>\n",
       "      <td>...</td>\n",
       "      <td>...</td>\n",
       "      <td>...</td>\n",
       "      <td>...</td>\n",
       "      <td>...</td>\n",
       "      <td>...</td>\n",
       "      <td>...</td>\n",
       "      <td>...</td>\n",
       "      <td>...</td>\n",
       "      <td>...</td>\n",
       "      <td>...</td>\n",
       "    </tr>\n",
       "    <tr>\n",
       "      <th>10122</th>\n",
       "      <td>10122</td>\n",
       "      <td>772366833</td>\n",
       "      <td>50</td>\n",
       "      <td>M</td>\n",
       "      <td>2</td>\n",
       "      <td>Graduate</td>\n",
       "      <td>Single</td>\n",
       "      <td>$40K - $60K</td>\n",
       "      <td>Blue</td>\n",
       "      <td>40</td>\n",
       "      <td>3</td>\n",
       "      <td>2</td>\n",
       "      <td>3</td>\n",
       "      <td>4003.0</td>\n",
       "      <td>1851</td>\n",
       "      <td>2152.0</td>\n",
       "      <td>0.462</td>\n",
       "      <td>0.999810</td>\n",
       "    </tr>\n",
       "    <tr>\n",
       "      <th>10123</th>\n",
       "      <td>10123</td>\n",
       "      <td>710638233</td>\n",
       "      <td>41</td>\n",
       "      <td>M</td>\n",
       "      <td>2</td>\n",
       "      <td>Unknown</td>\n",
       "      <td>Divorced</td>\n",
       "      <td>$40K - $60K</td>\n",
       "      <td>Blue</td>\n",
       "      <td>25</td>\n",
       "      <td>4</td>\n",
       "      <td>2</td>\n",
       "      <td>3</td>\n",
       "      <td>4277.0</td>\n",
       "      <td>2186</td>\n",
       "      <td>2091.0</td>\n",
       "      <td>0.511</td>\n",
       "      <td>0.004729</td>\n",
       "    </tr>\n",
       "    <tr>\n",
       "      <th>10124</th>\n",
       "      <td>10124</td>\n",
       "      <td>716506083</td>\n",
       "      <td>44</td>\n",
       "      <td>F</td>\n",
       "      <td>1</td>\n",
       "      <td>High School</td>\n",
       "      <td>Married</td>\n",
       "      <td>Less than $40K</td>\n",
       "      <td>Blue</td>\n",
       "      <td>36</td>\n",
       "      <td>5</td>\n",
       "      <td>3</td>\n",
       "      <td>4</td>\n",
       "      <td>5409.0</td>\n",
       "      <td>0</td>\n",
       "      <td>5409.0</td>\n",
       "      <td>0.000</td>\n",
       "      <td>0.002118</td>\n",
       "    </tr>\n",
       "    <tr>\n",
       "      <th>10125</th>\n",
       "      <td>10125</td>\n",
       "      <td>717406983</td>\n",
       "      <td>30</td>\n",
       "      <td>M</td>\n",
       "      <td>2</td>\n",
       "      <td>Graduate</td>\n",
       "      <td>Unknown</td>\n",
       "      <td>$40K - $60K</td>\n",
       "      <td>Blue</td>\n",
       "      <td>36</td>\n",
       "      <td>4</td>\n",
       "      <td>3</td>\n",
       "      <td>3</td>\n",
       "      <td>5281.0</td>\n",
       "      <td>0</td>\n",
       "      <td>5281.0</td>\n",
       "      <td>0.000</td>\n",
       "      <td>0.003294</td>\n",
       "    </tr>\n",
       "    <tr>\n",
       "      <th>10126</th>\n",
       "      <td>10126</td>\n",
       "      <td>714337233</td>\n",
       "      <td>43</td>\n",
       "      <td>F</td>\n",
       "      <td>2</td>\n",
       "      <td>Graduate</td>\n",
       "      <td>Married</td>\n",
       "      <td>Less than $40K</td>\n",
       "      <td>Silver</td>\n",
       "      <td>25</td>\n",
       "      <td>6</td>\n",
       "      <td>2</td>\n",
       "      <td>4</td>\n",
       "      <td>10388.0</td>\n",
       "      <td>1961</td>\n",
       "      <td>8427.0</td>\n",
       "      <td>0.189</td>\n",
       "      <td>0.003377</td>\n",
       "    </tr>\n",
       "  </tbody>\n",
       "</table>\n",
       "<p>10127 rows × 18 columns</p>\n",
       "</div>"
      ],
      "text/plain": [
       "       Unnamed: 0  NumeroDCliente  EdadDCliente Genero  CuentasDependientes  \\\n",
       "0               0       768805383            45      M                    3   \n",
       "1               1       818770008            49      F                    5   \n",
       "2               2       713982108            51      M                    3   \n",
       "3               3       769911858            40      F                    4   \n",
       "4               4       709106358            40      M                    3   \n",
       "...           ...             ...           ...    ...                  ...   \n",
       "10122       10122       772366833            50      M                    2   \n",
       "10123       10123       710638233            41      M                    2   \n",
       "10124       10124       716506083            44      F                    1   \n",
       "10125       10125       717406983            30      M                    2   \n",
       "10126       10126       714337233            43      F                    2   \n",
       "\n",
       "      NivelDEducacion EstadoCivil IntervaloDIngresos NivelDTarjeta  \\\n",
       "0         High School     Married        $60K - $80K          Blue   \n",
       "1            Graduate      Single     Less than $40K          Blue   \n",
       "2            Graduate     Married       $80K - $120K          Blue   \n",
       "3         High School     Unknown     Less than $40K          Blue   \n",
       "4          Uneducated     Married        $60K - $80K          Blue   \n",
       "...               ...         ...                ...           ...   \n",
       "10122        Graduate      Single        $40K - $60K          Blue   \n",
       "10123         Unknown    Divorced        $40K - $60K          Blue   \n",
       "10124     High School     Married     Less than $40K          Blue   \n",
       "10125        Graduate     Unknown        $40K - $60K          Blue   \n",
       "10126        Graduate     Married     Less than $40K        Silver   \n",
       "\n",
       "       MesesEnLibro  CuentasRelacionadas  MesesInactivoEnUnAnho  \\\n",
       "0                39                    5                      1   \n",
       "1                44                    6                      1   \n",
       "2                36                    4                      1   \n",
       "3                34                    3                      4   \n",
       "4                21                    5                      1   \n",
       "...             ...                  ...                    ...   \n",
       "10122            40                    3                      2   \n",
       "10123            25                    4                      2   \n",
       "10124            36                    5                      3   \n",
       "10125            36                    4                      3   \n",
       "10126            25                    6                      2   \n",
       "\n",
       "       ContactoConLaCuenta  LimiteCrediticio  TotalDSaldoRotatorio  \\\n",
       "0                        3           12691.0                   777   \n",
       "1                        2            8256.0                   864   \n",
       "2                        0            3418.0                     0   \n",
       "3                        1            3313.0                  2517   \n",
       "4                        0            4716.0                     0   \n",
       "...                    ...               ...                   ...   \n",
       "10122                    3            4003.0                  1851   \n",
       "10123                    3            4277.0                  2186   \n",
       "10124                    4            5409.0                     0   \n",
       "10125                    3            5281.0                     0   \n",
       "10126                    4           10388.0                  1961   \n",
       "\n",
       "       SaldoDisponible  PorcentajeUtilizado  ClasificacionNaiveBayes  \n",
       "0              11914.0                0.061                 0.999910  \n",
       "1               7392.0                0.105                 0.999940  \n",
       "2               3418.0                0.000                 0.999980  \n",
       "3                796.0                0.760                 0.999870  \n",
       "4               4716.0                0.000                 0.999980  \n",
       "...                ...                  ...                      ...  \n",
       "10122           2152.0                0.462                 0.999810  \n",
       "10123           2091.0                0.511                 0.004729  \n",
       "10124           5409.0                0.000                 0.002118  \n",
       "10125           5281.0                0.000                 0.003294  \n",
       "10126           8427.0                0.189                 0.003377  \n",
       "\n",
       "[10127 rows x 18 columns]"
      ]
     },
     "execution_count": 27,
     "metadata": {},
     "output_type": "execute_result"
    }
   ],
   "source": [
    "df1 = pd.read_csv(\"BankChurnersMod.csv\",header = 0,sep = \",\")\n",
    "\n",
    "df1 "
   ]
  },
  {
   "cell_type": "markdown",
   "metadata": {},
   "source": [
    "### Para nuestro objetivo principal"
   ]
  },
  {
   "cell_type": "markdown",
   "metadata": {},
   "source": [
    "Crearemos una grafica que nos diga que genero utiliza mas nuestro banco, si el femenino o el masculino "
   ]
  },
  {
   "cell_type": "code",
   "execution_count": 28,
   "metadata": {},
   "outputs": [
    {
     "data": {
      "text/plain": [
       "<AxesSubplot:>"
      ]
     },
     "execution_count": 28,
     "metadata": {},
     "output_type": "execute_result"
    },
    {
     "data": {
      "image/png": "[encoded data removed]",
      "text/plain": [
       "<Figure size 432x288 with 1 Axes>"
      ]
     },
     "metadata": {
      "needs_background": "light"
     },
     "output_type": "display_data"
    }
   ],
   "source": [
    "(df1['Genero'].value_counts() / len(df1)).plot.bar()\n"
   ]
  },
  {
   "cell_type": "markdown",
   "metadata": {},
   "source": [
    "En la grafica notamos que aunque no por mucho hay una mayoria femenina a masculina"
   ]
  },
  {
   "cell_type": "markdown",
   "metadata": {},
   "source": [
    "Ahora partiendo del genero y usando la restricción que pusimos anteriormente donde los clientes con menos de 2000 en su saldo disponible podrian tener problemas para pagar su credito creamos un histograma combinando ambas columnas"
   ]
  },
  {
   "cell_type": "code",
   "execution_count": 29,
   "metadata": {},
   "outputs": [
    {
     "data": {
      "image/png": "[encoded data removed]",
      "text/plain": [
       "<Figure size 432x288 with 1 Axes>"
      ]
     },
     "metadata": {
      "needs_background": "light"
     },
     "output_type": "display_data"
    }
   ],
   "source": [
    "m = plt.hist(df1[df1[\"Genero\"] == \"M\"].query('LimiteCrediticio<2000').LimiteCrediticio,bins=30,fc = (1,0,0,0.5),label = \"Masculino\")\n",
    "f = plt.hist(df1[df1[\"Genero\"] == \"F\"].query('LimiteCrediticio<2000').LimiteCrediticio,bins=30,fc = (0,1,0,0.5),label = \"Femenino\")\n",
    "plt.legend()\n",
    "plt.xlabel(\"LimiteCrediticio\")\n",
    "plt.ylabel(\"Número de personas\")\n",
    "plt.title(\"Histograma\")\n",
    "plt.show()"
   ]
  },
  {
   "cell_type": "markdown",
   "metadata": {},
   "source": [
    "Con esta grafica nuestra conclusión es que las mujeres son las que mas problemas podrian tener al pagar su credito, al ser una clara mayoria siendo ademas las que predominan en el rango de menos de 1500 del limite crediticio"
   ]
  },
  {
   "cell_type": "markdown",
   "metadata": {},
   "source": [
    "### Para nuestros objetivos secundarios"
   ]
  },
  {
   "cell_type": "markdown",
   "metadata": {},
   "source": [
    "* Objetivo secundario 1: Primero hacemos un histograma para identificar donde esta la media de edad de nuestros clientes "
   ]
  },
  {
   "cell_type": "code",
   "execution_count": 37,
   "metadata": {},
   "outputs": [
    {
     "data": {
      "text/plain": [
       "<AxesSubplot:xlabel='EdadDCliente', ylabel='Count'>"
      ]
     },
     "execution_count": 37,
     "metadata": {},
     "output_type": "execute_result"
    },
    {
     "data": {
      "image/png": "[encoded data removed]",
      "text/plain": [
       "<Figure size 432x288 with 1 Axes>"
      ]
     },
     "metadata": {
      "needs_background": "light"
     },
     "output_type": "display_data"
    }
   ],
   "source": [
    "sns.histplot(df1[\"EdadDCliente\"])"
   ]
  },
  {
   "cell_type": "markdown",
   "metadata": {},
   "source": [
    "Como podemos notar la edad prmedio es de 45 años aproximadamente, ahora haremos un grafico boxplot donde compararemos la edad con los intervalos de ingresos"
   ]
  },
  {
   "cell_type": "code",
   "execution_count": 36,
   "metadata": {},
   "outputs": [
    {
     "data": {
      "text/plain": [
       "<AxesSubplot:xlabel='IntervaloDIngresos', ylabel='EdadDCliente'>"
      ]
     },
     "execution_count": 36,
     "metadata": {},
     "output_type": "execute_result"
    },
    {
     "data": {
      "image/png": "[encoded data removed]",
      "text/plain": [
       "<Figure size 432x288 with 1 Axes>"
      ]
     },
     "metadata": {
      "needs_background": "light"
     },
     "output_type": "display_data"
    }
   ],
   "source": [
    "sns.boxplot(\n",
    "    x='IntervaloDIngresos',\n",
    "    y='EdadDCliente',\n",
    "    data=df1\n",
    ")"
   ]
  },
  {
   "cell_type": "markdown",
   "metadata": {},
   "source": [
    "Como podemos notar en nuestra grafica en realidad no hay mucha diferencia de un intervalo de ingresos a otro, siendo solamente el de mayor a 120,000 donde la edad media es mas alta llegando a ser casi 50 años.\n",
    "Con esto nuestra hipotesis de que la edad es factor para un mayor ingreso es erronea."
   ]
  },
  {
   "cell_type": "markdown",
   "metadata": {},
   "source": [
    "* Objetivo secundario 2: Como nos dimos cuenta en la grafica del objetivo principal según el limite crediticio las mujeres son las que tienen mayor posibilidad a tener problemas para pagar, como nuestro objetivo secundario es revisar que sexo gasta mas dinero segun su saldo disponible haremos una grafica multi variable para confirmar si esto es cierto o no"
   ]
  },
  {
   "cell_type": "code",
   "execution_count": 40,
   "metadata": {},
   "outputs": [
    {
     "data": {
      "text/plain": [
       "<seaborn.axisgrid.FacetGrid at 0x2084c178f70>"
      ]
     },
     "execution_count": 40,
     "metadata": {},
     "output_type": "execute_result"
    },
    {
     "data": {
      "image/png": "[encoded data removed]",
      "text/plain": [
       "<Figure size 404.625x360 with 1 Axes>"
      ]
     },
     "metadata": {
      "needs_background": "light"
     },
     "output_type": "display_data"
    }
   ],
   "source": [
    "sns.lmplot(x='LimiteCrediticio', y='SaldoDisponible', hue='Genero', \n",
    "           data=df1.loc[df1['Genero'].isin(['M', 'F'])], \n",
    "           fit_reg=False)"
   ]
  },
  {
   "cell_type": "markdown",
   "metadata": {},
   "source": [
    "Con esta grafica vemos que efectivamente, en ambas columnas la mujer es la que tiene tanto el menor limite crediticio como el menor saldo disponible "
   ]
  },
  {
   "cell_type": "markdown",
   "metadata": {},
   "source": [
    "### Conclusiones generales\n",
    "Con esto creemos que nuestro objetivo principal quedo parcialmente respondido por que aunque ya nos dimos cuenta que las mujeres son las que podrian tener mas problemas para pagar tambien deberiamos de revisar otras variables como la edad o la escolaridad para identificar mejor.\n",
    "De nuestros objetivos secundarios creemos que ya se resolvieron casi en su totalidad aunque podriamos agregar otros mas conforme avancemos el proyecto.\n",
    "Nuestras estrategias cambiaron puesto que tuvimos que pensar muy bien como abordar nuestra base de datos para poder resolver nuestra problematica principal y de pensar eso salio el problema de revisar otras variables ademas del sexo para averiguar el que clientes no podrian pagar."
   ]
  },
  {
   "cell_type": "code",
   "execution_count": null,
   "metadata": {},
   "outputs": [],
   "source": []
  }
 ],
 "metadata": {
  "kernelspec": {
   "display_name": "Python 3",
   "language": "python",
   "name": "python3"
  },
  "language_info": {
   "codemirror_mode": {
    "name": "ipython",
    "version": 3
   },
   "file_extension": ".py",
   "mimetype": "text/x-python",
   "name": "python",
   "nbconvert_exporter": "python",
   "pygments_lexer": "ipython3",
   "version": "3.8.5"
  }
 },
 "nbformat": 4,
 "nbformat_minor": 4
}
