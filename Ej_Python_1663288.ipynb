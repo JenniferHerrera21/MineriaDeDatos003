{
 "cells": [
  {
   "cell_type": "markdown",
   "metadata": {},
   "source": [
    "# Ejercicio 1"
   ]
  },
  {
   "cell_type": "code",
   "execution_count": 4,
   "metadata": {},
   "outputs": [
    {
     "name": "stdout",
     "output_type": "stream",
     "text": [
      "Jennifer Jacqueline Herrera Rivera 1663288\n"
     ]
    }
   ],
   "source": [
    "mat = 1663288\n",
    "print(\"Jennifer Jacqueline Herrera Rivera\", mat)"
   ]
  },
  {
   "cell_type": "markdown",
   "metadata": {},
   "source": [
    "# Ejercicio 2"
   ]
  },
  {
   "cell_type": "code",
   "execution_count": 5,
   "metadata": {},
   "outputs": [
    {
     "name": "stdout",
     "output_type": "stream",
     "text": [
      "Introduce un número:5\n",
      "Introduce otro número: 2\n",
      "Primer número:  5\n",
      "Segundo número:  2\n",
      "La suma del primer número y el segunto número es:  7\n",
      "La resta del primer número y el segunto número es:  3\n",
      "La multiplicación del primer número por el segunto número es:  10\n",
      "La división del primer número entre el segunto número es:  2.5\n",
      "El primer número elevado al segunto número es:  25\n"
     ]
    }
   ],
   "source": [
    "a1 = int(input(\"Introduce un número:\" ))\n",
    "b1 = int(input(\"Introduce otro número: \"))\n",
    "\n",
    "suma = (a1+b1)\n",
    "resta = (a1-b1)\n",
    "multi = (a1*b1)\n",
    "div = (a1/b1)\n",
    "exp = (a1**b1)\n",
    "\n",
    "print (\"Primer número: \", a1)\n",
    "print(\"Segundo número: \", b1)\n",
    "print(\"La suma del primer número y el segunto número es: \", suma)\n",
    "print(\"La resta del primer número y el segunto número es: \", resta)\n",
    "print(\"La multiplicación del primer número por el segunto número es: \", multi)\n",
    "print(\"La división del primer número entre el segunto número es: \", div)\n",
    "print(\"El primer número elevado al segunto número es: \", exp)\n"
   ]
  },
  {
   "cell_type": "markdown",
   "metadata": {},
   "source": [
    "# Ejercicio 3"
   ]
  },
  {
   "cell_type": "code",
   "execution_count": 13,
   "metadata": {},
   "outputs": [
    {
     "name": "stdout",
     "output_type": "stream",
     "text": [
      "0\n",
      "3\n",
      "6\n",
      "9\n",
      "12\n",
      "15\n",
      "18\n",
      "21\n",
      "24\n",
      "27\n",
      "30\n"
     ]
    }
   ],
   "source": [
    "i=0\n",
    "while i <= 30:\n",
    "    print (i)\n",
    "    i=i+3\n",
    "    \n",
    "#i =+3\n",
    "\n"
   ]
  },
  {
   "cell_type": "markdown",
   "metadata": {},
   "source": [
    "# Ejercicio 4"
   ]
  },
  {
   "cell_type": "code",
   "execution_count": 20,
   "metadata": {},
   "outputs": [
    {
     "name": "stdout",
     "output_type": "stream",
     "text": [
      "Introduce un número:8\n",
      "El número es par\n"
     ]
    }
   ],
   "source": [
    "x = int(input(\"Introduce un número:\" ))\n",
    "if x % 2 == 0:\n",
    "    print(\"El número es par\")\n",
    "else:\n",
    "    print(\"El número es impar\")"
   ]
  },
  {
   "cell_type": "code",
   "execution_count": 31,
   "metadata": {},
   "outputs": [
    {
     "name": "stdout",
     "output_type": "stream",
     "text": [
      "Introduce un número:12\n",
      "El número no es primo\n"
     ]
    }
   ],
   "source": [
    "y = int(input(\"Introduce un número:\" ))\n",
    "if y%y==1 & y%1==y:\n",
    "    print(\"El número es primo\")\n",
    "else:\n",
    "    print(\"El número no es primo\")"
   ]
  },
  {
   "cell_type": "markdown",
   "metadata": {},
   "source": [
    "# Ejercicio 5"
   ]
  },
  {
   "cell_type": "code",
   "execution_count": 42,
   "metadata": {},
   "outputs": [
    {
     "name": "stdout",
     "output_type": "stream",
     "text": [
      "Introduce un número:5\n",
      "Introduce otro número: 4\n",
      "Suma =  9\n",
      "Resta =  1\n",
      "Multiplicación =  20\n",
      "División =  1.25\n",
      "Exponente =  625\n"
     ]
    }
   ],
   "source": [
    "def Suma(a,b):\n",
    "    c=a+b\n",
    "    return c\n",
    "def Resta(a,b):\n",
    "    c=a-b\n",
    "    return c\n",
    "def Multi(a,b):\n",
    "    c=a*b\n",
    "    return c\n",
    "def Div(a,b):\n",
    "    c=a/b\n",
    "    return c\n",
    "def Exp(a,b):\n",
    "    c=a**b\n",
    "    return c\n",
    "\n",
    "x1 = int(input(\"Introduce un número:\" ))\n",
    "y1 = int(input(\"Introduce otro número: \"))\n",
    "print (\"Suma = \",Suma(x1, y1)) \n",
    "print (\"Resta = \",Resta(x1, y1))\n",
    "print (\"Multiplicación = \",Multi(x1, y1))\n",
    "print (\"División = \",Div(x1, y1))\n",
    "print (\"Exponente = \",Exp(x1, y1))\n",
    "\n"
   ]
  },
  {
   "cell_type": "markdown",
   "metadata": {},
   "source": [
    "# Ejercicios con estructuras básicas de python\n",
    "## Tuplas\n",
    "- Ejercicio 1\n"
   ]
  },
  {
   "cell_type": "code",
   "execution_count": 66,
   "metadata": {},
   "outputs": [
    {
     "name": "stdout",
     "output_type": "stream",
     "text": [
      "Seleccione una opcion de las siguientes:\n",
      "1. Número Decimal\\ 2. Número Entero\\ 3.Boolean\\ 4.Número complejo3\n",
      "Seleccione una opcion\n",
      "1. Verdadero/ 2. Falso1\n",
      "True\n"
     ]
    }
   ],
   "source": [
    "print(\"Seleccione una opcion de las siguientes:\")  \n",
    "m= int(input(\"1. Número Decimal\\ 2. Número Entero\\ 3.Boolean\\ 4.Número complejo\"))\n",
    "if m==1: \n",
    "    a= float(input(\"Ingrese un numero decimal \"))\n",
    "    print(a, \"es un número decimal\")\n",
    "elif m==2:\n",
    "    b= int(input(\"Ingrese un entero\"))\n",
    "    print(b, \"es un número entero\")\n",
    "elif m==3:\n",
    "    print(\"Seleccione una opcion\")\n",
    "    c= int(input(\"1. Verdadero/ 2. Falso\"))\n",
    "    if c==1:\n",
    "        print(\"True\")\n",
    "    else:\n",
    "        print(\"False\")\n",
    "elif m==4:\n",
    "    d= complex(input(\"Ingrese un numero complejo\"))\n",
    "    print(d,\"es un número complejo\")"
   ]
  },
  {
   "cell_type": "markdown",
   "metadata": {},
   "source": [
    "- Ejercicio 2"
   ]
  },
  {
   "cell_type": "code",
   "execution_count": 70,
   "metadata": {},
   "outputs": [
    {
     "data": {
      "text/plain": [
       "(1, 10)"
      ]
     },
     "execution_count": 70,
     "metadata": {},
     "output_type": "execute_result"
    }
   ],
   "source": [
    "nument = (1, 2, 3, 4, 5, 6, 7, 8, 9, 10)\n",
    "( nument[0], nument[9])\n"
   ]
  },
  {
   "cell_type": "markdown",
   "metadata": {},
   "source": [
    "- Ejercicio 3"
   ]
  },
  {
   "cell_type": "code",
   "execution_count": 82,
   "metadata": {},
   "outputs": [
    {
     "data": {
      "text/plain": [
       "(1, 2, 3, 4, 5, 'hola', 'casa', 'perro')"
      ]
     },
     "execution_count": 82,
     "metadata": {},
     "output_type": "execute_result"
    }
   ],
   "source": [
    "t1 = (1, 2, 3, 4,5)\n",
    "t1 = t1.__add__(('hola', 'casa', 'perro',))\n",
    "t1"
   ]
  },
  {
   "cell_type": "markdown",
   "metadata": {},
   "source": [
    "- Ejercicio 4\n"
   ]
  },
  {
   "cell_type": "code",
   "execution_count": 87,
   "metadata": {},
   "outputs": [
    {
     "data": {
      "text/plain": [
       "False"
      ]
     },
     "execution_count": 87,
     "metadata": {},
     "output_type": "execute_result"
    }
   ],
   "source": [
    "nument\n",
    "'12' in nument "
   ]
  },
  {
   "cell_type": "markdown",
   "metadata": {},
   "source": [
    "## Listas\n",
    "- Ejercicio 1"
   ]
  },
  {
   "cell_type": "code",
   "execution_count": 100,
   "metadata": {},
   "outputs": [
    {
     "name": "stdout",
     "output_type": "stream",
     "text": [
      "Ingrese cuantos numeros aleatorios desea obtener\n",
      "40\n",
      "[64, 62, 89, 0, 80, 90, 8, 95, 28, 97, 78, 32, 18, 46, 24, 19, 24, 89, 21, 7, 98, 75, 11, 48, 49, 64, 36, 27, 6, 20, 58, 96, 58, 63, 25, 7, 33, 4, 79, 81]\n"
     ]
    }
   ],
   "source": [
    "import random  #https://es.stackoverflow.com/questions/124063/crear-una-lista-de-numeros-aleatorios-en-python\n",
    "\n",
    "print(\"Ingrese cuantos numeros aleatorios desea obtener\")\n",
    "n=int(input())\n",
    "listalea = [random.randint(0,100) for _ in range(n)]\n",
    "print(listalea)\n",
    " "
   ]
  },
  {
   "cell_type": "markdown",
   "metadata": {},
   "source": [
    "## Diccionarios"
   ]
  },
  {
   "cell_type": "markdown",
   "metadata": {},
   "source": [
    "- Ejercicio 1"
   ]
  },
  {
   "cell_type": "code",
   "execution_count": 104,
   "metadata": {},
   "outputs": [
    {
     "data": {
      "text/plain": [
       "{'Andrea': 22, 'Ruben': 21, 'Daniela': 22, 'Griscelda': 29}"
      ]
     },
     "execution_count": 104,
     "metadata": {},
     "output_type": "execute_result"
    }
   ],
   "source": [
    "dict1 = {'Andrea': 22, 'Ruben': 21, 'Daniela': 18, 'Griscelda': 29}\n",
    "dict1"
   ]
  },
  {
   "cell_type": "markdown",
   "metadata": {},
   "source": [
    "- Ejercicio 2"
   ]
  },
  {
   "cell_type": "code",
   "execution_count": 108,
   "metadata": {},
   "outputs": [
    {
     "data": {
      "text/plain": [
       "[18, 21, 22, 29]"
      ]
     },
     "execution_count": 108,
     "metadata": {},
     "output_type": "execute_result"
    }
   ],
   "source": [
    "listedad = [22, 21, 18, 29]\n",
    "listedad.sort()\n",
    "listedad"
   ]
  },
  {
   "cell_type": "markdown",
   "metadata": {},
   "source": [
    "- Ejercicio 3"
   ]
  },
  {
   "cell_type": "code",
   "execution_count": 113,
   "metadata": {},
   "outputs": [
    {
     "name": "stdout",
     "output_type": "stream",
     "text": [
      "Andrea\n",
      "Ruben\n",
      "Daniela\n",
      "Griscelda\n"
     ]
    }
   ],
   "source": [
    "for i in dict1:\n",
    "    print (i)"
   ]
  },
  {
   "cell_type": "markdown",
   "metadata": {},
   "source": [
    "- Ejercicio 4"
   ]
  },
  {
   "cell_type": "code",
   "execution_count": 114,
   "metadata": {},
   "outputs": [
    {
     "data": {
      "text/plain": [
       "{'Andrea': 22,\n",
       " 'Ruben': 21,\n",
       " 'Daniela': 22,\n",
       " 'Griscelda': 29,\n",
       " ('Aylin', 'Cristopher'): ('23', '22')}"
      ]
     },
     "execution_count": 114,
     "metadata": {},
     "output_type": "execute_result"
    }
   ],
   "source": [
    "dict1['Aylin', 'Cristopher'] = '23', '22'\n",
    "dict1"
   ]
  },
  {
   "cell_type": "markdown",
   "metadata": {},
   "source": [
    "## Sets"
   ]
  },
  {
   "cell_type": "markdown",
   "metadata": {},
   "source": [
    "- Ejercicio 1"
   ]
  },
  {
   "cell_type": "code",
   "execution_count": 129,
   "metadata": {},
   "outputs": [
    {
     "name": "stdout",
     "output_type": "stream",
     "text": [
      "{3, 8, 10, 20, 25, 33, 37, 40, 43, 44, 46, 50, 51, 53, 60, 76, 80, 84, 85, 86, 87, 88, 90}\n"
     ]
    }
   ],
   "source": [
    "m=26\n",
    "set1 = { random.randint(0,100) for _ in range(m)}\n",
    "print(set1)"
   ]
  },
  {
   "cell_type": "markdown",
   "metadata": {},
   "source": [
    "- Ejercicio 2"
   ]
  },
  {
   "cell_type": "code",
   "execution_count": 130,
   "metadata": {},
   "outputs": [
    {
     "data": {
      "text/plain": [
       "23"
      ]
     },
     "execution_count": 130,
     "metadata": {},
     "output_type": "execute_result"
    }
   ],
   "source": [
    "len (set1)"
   ]
  }
 ],
 "metadata": {
  "kernelspec": {
   "display_name": "Python 3",
   "language": "python",
   "name": "python3"
  },
  "language_info": {
   "codemirror_mode": {
    "name": "ipython",
    "version": 3
   },
   "file_extension": ".py",
   "mimetype": "text/x-python",
   "name": "python",
   "nbconvert_exporter": "python",
   "pygments_lexer": "ipython3",
   "version": "3.8.5"
  }
 },
 "nbformat": 4,
 "nbformat_minor": 4
}
